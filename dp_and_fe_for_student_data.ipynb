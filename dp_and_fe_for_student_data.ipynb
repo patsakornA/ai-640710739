{
  "nbformat": 4,
  "nbformat_minor": 0,
  "metadata": {
    "colab": {
      "provenance": [],
      "gpuType": "T4"
    },
    "kernelspec": {
      "name": "python3",
      "display_name": "Python 3"
    },
    "language_info": {
      "name": "python"
    },
    "accelerator": "GPU"
  },
  "cells": [
    {
      "cell_type": "markdown",
      "source": [
        "#640710739-พัสกร มงคลพร"
      ],
      "metadata": {
        "id": "quERZru4d28u"
      }
    },
    {
      "cell_type": "code",
      "execution_count": 1,
      "metadata": {
        "id": "bZwYjEYdWMwF"
      },
      "outputs": [],
      "source": [
        "import pandas as pd"
      ]
    },
    {
      "cell_type": "code",
      "source": [
        "df = pd.read_csv('student.csv')"
      ],
      "metadata": {
        "id": "CfpytcXpWiO9"
      },
      "execution_count": 2,
      "outputs": []
    },
    {
      "cell_type": "code",
      "source": [
        "df.shape"
      ],
      "metadata": {
        "colab": {
          "base_uri": "https://localhost:8080/"
        },
        "id": "as_9-DLfWmmO",
        "outputId": "2a29955f-900c-4da8-831a-df32cb0e7f19"
      },
      "execution_count": 3,
      "outputs": [
        {
          "output_type": "execute_result",
          "data": {
            "text/plain": [
              "(20, 10)"
            ]
          },
          "metadata": {},
          "execution_count": 3
        }
      ]
    },
    {
      "cell_type": "code",
      "source": [
        "df.head()"
      ],
      "metadata": {
        "colab": {
          "base_uri": "https://localhost:8080/",
          "height": 348
        },
        "id": "DzNxgmc3WqIC",
        "outputId": "003f3b19-a3e9-45e7-8014-78b6384735c4"
      },
      "execution_count": 4,
      "outputs": [
        {
          "output_type": "execute_result",
          "data": {
            "text/plain": [
              "   รหัสนักศึกษา      ชื่อ  อายุ   เพศ             คณะ   GPA  ส่วนสูง_cm  \\\n",
              "0         64001     สมชาย  20.0   ชาย     วิทยาศาสตร์  3.21       170.0   \n",
              "1         64002    สมหญิง  21.0  หญิง           วิทย์  3.45       165.0   \n",
              "2         64003       NaN   NaN  Male         Science  3.67       175.0   \n",
              "3         64004  สมศักดิ์  22.0     ช  คณะวิทยาศาสตร์ -1.00       168.0   \n",
              "4         64005      สมใจ  19.0     ญ           วิศวะ  3.89       160.0   \n",
              "\n",
              "   น้ำหนัก_kg  ชั่วโมงเรียน_ต่อสัปดาห์ วันที่ลงทะเบียน  \n",
              "0        65.0                     15.0      2024-01-23  \n",
              "1        58.0                     20.0      2024-02-05  \n",
              "2         NaN                     25.0      2024-01-13  \n",
              "3        70.0                     10.0      2023-12-30  \n",
              "4        52.0                     30.0      2024-01-27  "
            ],
            "text/html": [
              "\n",
              "  <div id=\"df-1e62a9f9-d8b7-4b33-ac44-f24a81a90304\" class=\"colab-df-container\">\n",
              "    <div>\n",
              "<style scoped>\n",
              "    .dataframe tbody tr th:only-of-type {\n",
              "        vertical-align: middle;\n",
              "    }\n",
              "\n",
              "    .dataframe tbody tr th {\n",
              "        vertical-align: top;\n",
              "    }\n",
              "\n",
              "    .dataframe thead th {\n",
              "        text-align: right;\n",
              "    }\n",
              "</style>\n",
              "<table border=\"1\" class=\"dataframe\">\n",
              "  <thead>\n",
              "    <tr style=\"text-align: right;\">\n",
              "      <th></th>\n",
              "      <th>รหัสนักศึกษา</th>\n",
              "      <th>ชื่อ</th>\n",
              "      <th>อายุ</th>\n",
              "      <th>เพศ</th>\n",
              "      <th>คณะ</th>\n",
              "      <th>GPA</th>\n",
              "      <th>ส่วนสูง_cm</th>\n",
              "      <th>น้ำหนัก_kg</th>\n",
              "      <th>ชั่วโมงเรียน_ต่อสัปดาห์</th>\n",
              "      <th>วันที่ลงทะเบียน</th>\n",
              "    </tr>\n",
              "  </thead>\n",
              "  <tbody>\n",
              "    <tr>\n",
              "      <th>0</th>\n",
              "      <td>64001</td>\n",
              "      <td>สมชาย</td>\n",
              "      <td>20.0</td>\n",
              "      <td>ชาย</td>\n",
              "      <td>วิทยาศาสตร์</td>\n",
              "      <td>3.21</td>\n",
              "      <td>170.0</td>\n",
              "      <td>65.0</td>\n",
              "      <td>15.0</td>\n",
              "      <td>2024-01-23</td>\n",
              "    </tr>\n",
              "    <tr>\n",
              "      <th>1</th>\n",
              "      <td>64002</td>\n",
              "      <td>สมหญิง</td>\n",
              "      <td>21.0</td>\n",
              "      <td>หญิง</td>\n",
              "      <td>วิทย์</td>\n",
              "      <td>3.45</td>\n",
              "      <td>165.0</td>\n",
              "      <td>58.0</td>\n",
              "      <td>20.0</td>\n",
              "      <td>2024-02-05</td>\n",
              "    </tr>\n",
              "    <tr>\n",
              "      <th>2</th>\n",
              "      <td>64003</td>\n",
              "      <td>NaN</td>\n",
              "      <td>NaN</td>\n",
              "      <td>Male</td>\n",
              "      <td>Science</td>\n",
              "      <td>3.67</td>\n",
              "      <td>175.0</td>\n",
              "      <td>NaN</td>\n",
              "      <td>25.0</td>\n",
              "      <td>2024-01-13</td>\n",
              "    </tr>\n",
              "    <tr>\n",
              "      <th>3</th>\n",
              "      <td>64004</td>\n",
              "      <td>สมศักดิ์</td>\n",
              "      <td>22.0</td>\n",
              "      <td>ช</td>\n",
              "      <td>คณะวิทยาศาสตร์</td>\n",
              "      <td>-1.00</td>\n",
              "      <td>168.0</td>\n",
              "      <td>70.0</td>\n",
              "      <td>10.0</td>\n",
              "      <td>2023-12-30</td>\n",
              "    </tr>\n",
              "    <tr>\n",
              "      <th>4</th>\n",
              "      <td>64005</td>\n",
              "      <td>สมใจ</td>\n",
              "      <td>19.0</td>\n",
              "      <td>ญ</td>\n",
              "      <td>วิศวะ</td>\n",
              "      <td>3.89</td>\n",
              "      <td>160.0</td>\n",
              "      <td>52.0</td>\n",
              "      <td>30.0</td>\n",
              "      <td>2024-01-27</td>\n",
              "    </tr>\n",
              "  </tbody>\n",
              "</table>\n",
              "</div>\n",
              "    <div class=\"colab-df-buttons\">\n",
              "\n",
              "  <div class=\"colab-df-container\">\n",
              "    <button class=\"colab-df-convert\" onclick=\"convertToInteractive('df-1e62a9f9-d8b7-4b33-ac44-f24a81a90304')\"\n",
              "            title=\"Convert this dataframe to an interactive table.\"\n",
              "            style=\"display:none;\">\n",
              "\n",
              "  <svg xmlns=\"http://www.w3.org/2000/svg\" height=\"24px\" viewBox=\"0 -960 960 960\">\n",
              "    <path d=\"M120-120v-720h720v720H120Zm60-500h600v-160H180v160Zm220 220h160v-160H400v160Zm0 220h160v-160H400v160ZM180-400h160v-160H180v160Zm440 0h160v-160H620v160ZM180-180h160v-160H180v160Zm440 0h160v-160H620v160Z\"/>\n",
              "  </svg>\n",
              "    </button>\n",
              "\n",
              "  <style>\n",
              "    .colab-df-container {\n",
              "      display:flex;\n",
              "      gap: 12px;\n",
              "    }\n",
              "\n",
              "    .colab-df-convert {\n",
              "      background-color: #E8F0FE;\n",
              "      border: none;\n",
              "      border-radius: 50%;\n",
              "      cursor: pointer;\n",
              "      display: none;\n",
              "      fill: #1967D2;\n",
              "      height: 32px;\n",
              "      padding: 0 0 0 0;\n",
              "      width: 32px;\n",
              "    }\n",
              "\n",
              "    .colab-df-convert:hover {\n",
              "      background-color: #E2EBFA;\n",
              "      box-shadow: 0px 1px 2px rgba(60, 64, 67, 0.3), 0px 1px 3px 1px rgba(60, 64, 67, 0.15);\n",
              "      fill: #174EA6;\n",
              "    }\n",
              "\n",
              "    .colab-df-buttons div {\n",
              "      margin-bottom: 4px;\n",
              "    }\n",
              "\n",
              "    [theme=dark] .colab-df-convert {\n",
              "      background-color: #3B4455;\n",
              "      fill: #D2E3FC;\n",
              "    }\n",
              "\n",
              "    [theme=dark] .colab-df-convert:hover {\n",
              "      background-color: #434B5C;\n",
              "      box-shadow: 0px 1px 3px 1px rgba(0, 0, 0, 0.15);\n",
              "      filter: drop-shadow(0px 1px 2px rgba(0, 0, 0, 0.3));\n",
              "      fill: #FFFFFF;\n",
              "    }\n",
              "  </style>\n",
              "\n",
              "    <script>\n",
              "      const buttonEl =\n",
              "        document.querySelector('#df-1e62a9f9-d8b7-4b33-ac44-f24a81a90304 button.colab-df-convert');\n",
              "      buttonEl.style.display =\n",
              "        google.colab.kernel.accessAllowed ? 'block' : 'none';\n",
              "\n",
              "      async function convertToInteractive(key) {\n",
              "        const element = document.querySelector('#df-1e62a9f9-d8b7-4b33-ac44-f24a81a90304');\n",
              "        const dataTable =\n",
              "          await google.colab.kernel.invokeFunction('convertToInteractive',\n",
              "                                                    [key], {});\n",
              "        if (!dataTable) return;\n",
              "\n",
              "        const docLinkHtml = 'Like what you see? Visit the ' +\n",
              "          '<a target=\"_blank\" href=https://colab.research.google.com/notebooks/data_table.ipynb>data table notebook</a>'\n",
              "          + ' to learn more about interactive tables.';\n",
              "        element.innerHTML = '';\n",
              "        dataTable['output_type'] = 'display_data';\n",
              "        await google.colab.output.renderOutput(dataTable, element);\n",
              "        const docLink = document.createElement('div');\n",
              "        docLink.innerHTML = docLinkHtml;\n",
              "        element.appendChild(docLink);\n",
              "      }\n",
              "    </script>\n",
              "  </div>\n",
              "\n",
              "\n",
              "    <div id=\"df-4f4e8536-bdcb-4cf2-9ba2-7abf1a425ac4\">\n",
              "      <button class=\"colab-df-quickchart\" onclick=\"quickchart('df-4f4e8536-bdcb-4cf2-9ba2-7abf1a425ac4')\"\n",
              "                title=\"Suggest charts\"\n",
              "                style=\"display:none;\">\n",
              "\n",
              "<svg xmlns=\"http://www.w3.org/2000/svg\" height=\"24px\"viewBox=\"0 0 24 24\"\n",
              "     width=\"24px\">\n",
              "    <g>\n",
              "        <path d=\"M19 3H5c-1.1 0-2 .9-2 2v14c0 1.1.9 2 2 2h14c1.1 0 2-.9 2-2V5c0-1.1-.9-2-2-2zM9 17H7v-7h2v7zm4 0h-2V7h2v10zm4 0h-2v-4h2v4z\"/>\n",
              "    </g>\n",
              "</svg>\n",
              "      </button>\n",
              "\n",
              "<style>\n",
              "  .colab-df-quickchart {\n",
              "      --bg-color: #E8F0FE;\n",
              "      --fill-color: #1967D2;\n",
              "      --hover-bg-color: #E2EBFA;\n",
              "      --hover-fill-color: #174EA6;\n",
              "      --disabled-fill-color: #AAA;\n",
              "      --disabled-bg-color: #DDD;\n",
              "  }\n",
              "\n",
              "  [theme=dark] .colab-df-quickchart {\n",
              "      --bg-color: #3B4455;\n",
              "      --fill-color: #D2E3FC;\n",
              "      --hover-bg-color: #434B5C;\n",
              "      --hover-fill-color: #FFFFFF;\n",
              "      --disabled-bg-color: #3B4455;\n",
              "      --disabled-fill-color: #666;\n",
              "  }\n",
              "\n",
              "  .colab-df-quickchart {\n",
              "    background-color: var(--bg-color);\n",
              "    border: none;\n",
              "    border-radius: 50%;\n",
              "    cursor: pointer;\n",
              "    display: none;\n",
              "    fill: var(--fill-color);\n",
              "    height: 32px;\n",
              "    padding: 0;\n",
              "    width: 32px;\n",
              "  }\n",
              "\n",
              "  .colab-df-quickchart:hover {\n",
              "    background-color: var(--hover-bg-color);\n",
              "    box-shadow: 0 1px 2px rgba(60, 64, 67, 0.3), 0 1px 3px 1px rgba(60, 64, 67, 0.15);\n",
              "    fill: var(--button-hover-fill-color);\n",
              "  }\n",
              "\n",
              "  .colab-df-quickchart-complete:disabled,\n",
              "  .colab-df-quickchart-complete:disabled:hover {\n",
              "    background-color: var(--disabled-bg-color);\n",
              "    fill: var(--disabled-fill-color);\n",
              "    box-shadow: none;\n",
              "  }\n",
              "\n",
              "  .colab-df-spinner {\n",
              "    border: 2px solid var(--fill-color);\n",
              "    border-color: transparent;\n",
              "    border-bottom-color: var(--fill-color);\n",
              "    animation:\n",
              "      spin 1s steps(1) infinite;\n",
              "  }\n",
              "\n",
              "  @keyframes spin {\n",
              "    0% {\n",
              "      border-color: transparent;\n",
              "      border-bottom-color: var(--fill-color);\n",
              "      border-left-color: var(--fill-color);\n",
              "    }\n",
              "    20% {\n",
              "      border-color: transparent;\n",
              "      border-left-color: var(--fill-color);\n",
              "      border-top-color: var(--fill-color);\n",
              "    }\n",
              "    30% {\n",
              "      border-color: transparent;\n",
              "      border-left-color: var(--fill-color);\n",
              "      border-top-color: var(--fill-color);\n",
              "      border-right-color: var(--fill-color);\n",
              "    }\n",
              "    40% {\n",
              "      border-color: transparent;\n",
              "      border-right-color: var(--fill-color);\n",
              "      border-top-color: var(--fill-color);\n",
              "    }\n",
              "    60% {\n",
              "      border-color: transparent;\n",
              "      border-right-color: var(--fill-color);\n",
              "    }\n",
              "    80% {\n",
              "      border-color: transparent;\n",
              "      border-right-color: var(--fill-color);\n",
              "      border-bottom-color: var(--fill-color);\n",
              "    }\n",
              "    90% {\n",
              "      border-color: transparent;\n",
              "      border-bottom-color: var(--fill-color);\n",
              "    }\n",
              "  }\n",
              "</style>\n",
              "\n",
              "      <script>\n",
              "        async function quickchart(key) {\n",
              "          const quickchartButtonEl =\n",
              "            document.querySelector('#' + key + ' button');\n",
              "          quickchartButtonEl.disabled = true;  // To prevent multiple clicks.\n",
              "          quickchartButtonEl.classList.add('colab-df-spinner');\n",
              "          try {\n",
              "            const charts = await google.colab.kernel.invokeFunction(\n",
              "                'suggestCharts', [key], {});\n",
              "          } catch (error) {\n",
              "            console.error('Error during call to suggestCharts:', error);\n",
              "          }\n",
              "          quickchartButtonEl.classList.remove('colab-df-spinner');\n",
              "          quickchartButtonEl.classList.add('colab-df-quickchart-complete');\n",
              "        }\n",
              "        (() => {\n",
              "          let quickchartButtonEl =\n",
              "            document.querySelector('#df-4f4e8536-bdcb-4cf2-9ba2-7abf1a425ac4 button');\n",
              "          quickchartButtonEl.style.display =\n",
              "            google.colab.kernel.accessAllowed ? 'block' : 'none';\n",
              "        })();\n",
              "      </script>\n",
              "    </div>\n",
              "\n",
              "    </div>\n",
              "  </div>\n"
            ],
            "application/vnd.google.colaboratory.intrinsic+json": {
              "type": "dataframe",
              "variable_name": "df",
              "summary": "{\n  \"name\": \"df\",\n  \"rows\": 20,\n  \"fields\": [\n    {\n      \"column\": \"\\u0e23\\u0e2b\\u0e31\\u0e2a\\u0e19\\u0e31\\u0e01\\u0e28\\u0e36\\u0e01\\u0e29\\u0e32\",\n      \"properties\": {\n        \"dtype\": \"number\",\n        \"std\": 5,\n        \"min\": 64001,\n        \"max\": 64020,\n        \"num_unique_values\": 20,\n        \"samples\": [\n          64001,\n          64018,\n          64016\n        ],\n        \"semantic_type\": \"\",\n        \"description\": \"\"\n      }\n    },\n    {\n      \"column\": \"\\u0e0a\\u0e37\\u0e48\\u0e2d\",\n      \"properties\": {\n        \"dtype\": \"string\",\n        \"num_unique_values\": 19,\n        \"samples\": [\n          \"\\u0e2a\\u0e21\\u0e0a\\u0e32\\u0e22\",\n          \"\\u0e01\\u0e34\\u0e15\\u0e15\\u0e34\",\n          \"\\u0e1a\\u0e38\\u0e0d\\u0e21\\u0e35\"\n        ],\n        \"semantic_type\": \"\",\n        \"description\": \"\"\n      }\n    },\n    {\n      \"column\": \"\\u0e2d\\u0e32\\u0e22\\u0e38\",\n      \"properties\": {\n        \"dtype\": \"number\",\n        \"std\": 31.337113872888057,\n        \"min\": 19.0,\n        \"max\": 150.0,\n        \"num_unique_values\": 6,\n        \"samples\": [\n          20.0,\n          21.0,\n          23.0\n        ],\n        \"semantic_type\": \"\",\n        \"description\": \"\"\n      }\n    },\n    {\n      \"column\": \"\\u0e40\\u0e1e\\u0e28\",\n      \"properties\": {\n        \"dtype\": \"category\",\n        \"num_unique_values\": 8,\n        \"samples\": [\n          \"\\u0e2b\\u0e0d\\u0e34\\u0e07\",\n          \"F\",\n          \"\\u0e0a\\u0e32\\u0e22\"\n        ],\n        \"semantic_type\": \"\",\n        \"description\": \"\"\n      }\n    },\n    {\n      \"column\": \"\\u0e04\\u0e13\\u0e30\",\n      \"properties\": {\n        \"dtype\": \"string\",\n        \"num_unique_values\": 14,\n        \"samples\": [\n          \"\\u0e28\\u0e34\\u0e25\\u0e1b\\u0e4c\",\n          \"Liberal Arts\",\n          \"\\u0e27\\u0e34\\u0e17\\u0e22\\u0e32\\u0e28\\u0e32\\u0e2a\\u0e15\\u0e23\\u0e4c\"\n        ],\n        \"semantic_type\": \"\",\n        \"description\": \"\"\n      }\n    },\n    {\n      \"column\": \"GPA\",\n      \"properties\": {\n        \"dtype\": \"number\",\n        \"std\": 1.1233256239916989,\n        \"min\": -1.0,\n        \"max\": 4.5,\n        \"num_unique_values\": 13,\n        \"samples\": [\n          3.23,\n          3.56,\n          3.21\n        ],\n        \"semantic_type\": \"\",\n        \"description\": \"\"\n      }\n    },\n    {\n      \"column\": \"\\u0e2a\\u0e48\\u0e27\\u0e19\\u0e2a\\u0e39\\u0e07_cm\",\n      \"properties\": {\n        \"dtype\": \"number\",\n        \"std\": 5.7062600281420695,\n        \"min\": 158.0,\n        \"max\": 180.0,\n        \"num_unique_values\": 18,\n        \"samples\": [\n          170.0,\n          165.0,\n          163.0\n        ],\n        \"semantic_type\": \"\",\n        \"description\": \"\"\n      }\n    },\n    {\n      \"column\": \"\\u0e19\\u0e49\\u0e33\\u0e2b\\u0e19\\u0e31\\u0e01_kg\",\n      \"properties\": {\n        \"dtype\": \"number\",\n        \"std\": 10.27927033854108,\n        \"min\": 48.0,\n        \"max\": 82.0,\n        \"num_unique_values\": 18,\n        \"samples\": [\n          65.0,\n          58.0,\n          60.0\n        ],\n        \"semantic_type\": \"\",\n        \"description\": \"\"\n      }\n    },\n    {\n      \"column\": \"\\u0e0a\\u0e31\\u0e48\\u0e27\\u0e42\\u0e21\\u0e07\\u0e40\\u0e23\\u0e35\\u0e22\\u0e19_\\u0e15\\u0e48\\u0e2d\\u0e2a\\u0e31\\u0e1b\\u0e14\\u0e32\\u0e2b\\u0e4c\",\n      \"properties\": {\n        \"dtype\": \"number\",\n        \"std\": 6.598920490048879,\n        \"min\": 10.0,\n        \"max\": 35.0,\n        \"num_unique_values\": 18,\n        \"samples\": [\n          15.0,\n          20.0,\n          22.0\n        ],\n        \"semantic_type\": \"\",\n        \"description\": \"\"\n      }\n    },\n    {\n      \"column\": \"\\u0e27\\u0e31\\u0e19\\u0e17\\u0e35\\u0e48\\u0e25\\u0e07\\u0e17\\u0e30\\u0e40\\u0e1a\\u0e35\\u0e22\\u0e19\",\n      \"properties\": {\n        \"dtype\": \"object\",\n        \"num_unique_values\": 17,\n        \"samples\": [\n          \"2024-01-23\",\n          \"2024-02-05\",\n          \"2023-12-23\"\n        ],\n        \"semantic_type\": \"\",\n        \"description\": \"\"\n      }\n    }\n  ]\n}"
            }
          },
          "metadata": {},
          "execution_count": 4
        }
      ]
    },
    {
      "cell_type": "markdown",
      "source": [
        "#3.1 การจัดการข้อมูลหาย"
      ],
      "metadata": {
        "id": "TWLBl43iaUxZ"
      }
    },
    {
      "cell_type": "markdown",
      "source": [
        "#วิธีที่ 1 ลบแถวที่มีค่าหาย"
      ],
      "metadata": {
        "id": "huIRLuQHabSE"
      }
    },
    {
      "cell_type": "code",
      "source": [
        "# แสดงข้อมูลก่อนลบ\n",
        "print(\"ก่อนลบ\")\n",
        "print(df)\n",
        "\n",
        "# เหมาะเมื่อมีข้อมูลหายน้อย - ลบแถวที่มีค่าหาย\n",
        "df_clean = df.dropna()\n",
        "\n",
        "print(f\"\\nผลการลบ - ก่อนลบ {len(df)} แถว, หลังลบ {len(df_clean)} แถว\")\n",
        "print(\"หลังลบ (เหลือ 9 คน):\")\n",
        "print(df_clean)"
      ],
      "metadata": {
        "colab": {
          "base_uri": "https://localhost:8080/"
        },
        "id": "vXoUOvSmaY5t",
        "outputId": "2d593d7a-e6ff-4a04-cd9f-c0f76af132a1"
      },
      "execution_count": 5,
      "outputs": [
        {
          "output_type": "stream",
          "name": "stdout",
          "text": [
            "ก่อนลบ\n",
            "    รหัสนักศึกษา      ชื่อ   อายุ     เพศ             คณะ   GPA  ส่วนสูง_cm  \\\n",
            "0          64001     สมชาย   20.0     ชาย     วิทยาศาสตร์  3.21       170.0   \n",
            "1          64002    สมหญิง   21.0    หญิง           วิทย์  3.45       165.0   \n",
            "2          64003       NaN    NaN    Male         Science  3.67       175.0   \n",
            "3          64004  สมศักดิ์   22.0       ช  คณะวิทยาศาสตร์ -1.00       168.0   \n",
            "4          64005      สมใจ   19.0       ญ           วิศวะ  3.89       160.0   \n",
            "5          64006     กานต์  150.0     ชาย     Engineering  3.12       172.0   \n",
            "6          64007     กิตติ   21.0    หญิง        วิศวกรรม  4.50       158.0   \n",
            "7          64008      จิรา   20.0       F      ศิลปศาสตร์  2.98       180.0   \n",
            "8          64009    ชนาธิป   23.0       M            Arts  3.34       163.0   \n",
            "9          64010      ดารา   21.0    หญิง           ศิลป์  3.56       167.0   \n",
            "10         64011      ธีระ    NaN     NaN             NaN  3.78         NaN   \n",
            "11         64012       นภา   22.0     ชาย           วิทย์   NaN       171.0   \n",
            "12         64013     บุญมี   20.0    หญิง           วิศวฯ  3.23       169.0   \n",
            "13         64014     ปรีชา   21.0     ชาย    Liberal Arts  3.45       164.0   \n",
            "14         64015     พิมพ์   22.0  Female             Sci  3.67       162.0   \n",
            "15         64016      ภูมิ   19.0       ช     วิทยาศาสตร์  3.89       173.0   \n",
            "16         64017      มานี   20.0       ญ  วิศวกรรมศาสตร์  3.01       166.0   \n",
            "17         64018      ยุพา   21.0    หญิง             NaN  3.23       161.0   \n",
            "18         64019     รัตนา    NaN     ชาย      ศิลปศาสตร์   NaN       174.0   \n",
            "19         64020     ลัดดา   22.0     NaN         Science  3.45       168.0   \n",
            "\n",
            "    น้ำหนัก_kg  ชั่วโมงเรียน_ต่อสัปดาห์ วันที่ลงทะเบียน  \n",
            "0         65.0                     15.0      2024-01-23  \n",
            "1         58.0                     20.0      2024-02-05  \n",
            "2          NaN                     25.0      2024-01-13  \n",
            "3         70.0                     10.0      2023-12-30  \n",
            "4         52.0                     30.0      2024-01-27  \n",
            "5         75.0                     12.0      2023-12-23  \n",
            "6         48.0                     35.0      2024-01-05  \n",
            "7         82.0                     18.0      2024-01-23  \n",
            "8         55.0                     22.0      2024-02-11  \n",
            "9         60.0                     28.0      2024-01-03  \n",
            "10        68.0                      NaN      2024-01-07  \n",
            "11         NaN                     16.0      2023-12-26  \n",
            "12        72.0                     24.0      2023-12-26  \n",
            "13        54.0                     19.0      2024-01-08  \n",
            "14        56.0                     26.0      2024-02-06  \n",
            "15        78.0                     14.0      2024-01-20  \n",
            "16        62.0                     21.0      2024-01-24  \n",
            "17        50.0                     27.0      2024-01-08  \n",
            "18        76.0                      NaN      2023-12-18  \n",
            "19        64.0                     23.0      2024-01-06  \n",
            "\n",
            "ผลการลบ - ก่อนลบ 20 แถว, หลังลบ 14 แถว\n",
            "หลังลบ (เหลือ 9 คน):\n",
            "    รหัสนักศึกษา      ชื่อ   อายุ     เพศ             คณะ   GPA  ส่วนสูง_cm  \\\n",
            "0          64001     สมชาย   20.0     ชาย     วิทยาศาสตร์  3.21       170.0   \n",
            "1          64002    สมหญิง   21.0    หญิง           วิทย์  3.45       165.0   \n",
            "3          64004  สมศักดิ์   22.0       ช  คณะวิทยาศาสตร์ -1.00       168.0   \n",
            "4          64005      สมใจ   19.0       ญ           วิศวะ  3.89       160.0   \n",
            "5          64006     กานต์  150.0     ชาย     Engineering  3.12       172.0   \n",
            "6          64007     กิตติ   21.0    หญิง        วิศวกรรม  4.50       158.0   \n",
            "7          64008      จิรา   20.0       F      ศิลปศาสตร์  2.98       180.0   \n",
            "8          64009    ชนาธิป   23.0       M            Arts  3.34       163.0   \n",
            "9          64010      ดารา   21.0    หญิง           ศิลป์  3.56       167.0   \n",
            "12         64013     บุญมี   20.0    หญิง           วิศวฯ  3.23       169.0   \n",
            "13         64014     ปรีชา   21.0     ชาย    Liberal Arts  3.45       164.0   \n",
            "14         64015     พิมพ์   22.0  Female             Sci  3.67       162.0   \n",
            "15         64016      ภูมิ   19.0       ช     วิทยาศาสตร์  3.89       173.0   \n",
            "16         64017      มานี   20.0       ญ  วิศวกรรมศาสตร์  3.01       166.0   \n",
            "\n",
            "    น้ำหนัก_kg  ชั่วโมงเรียน_ต่อสัปดาห์ วันที่ลงทะเบียน  \n",
            "0         65.0                     15.0      2024-01-23  \n",
            "1         58.0                     20.0      2024-02-05  \n",
            "3         70.0                     10.0      2023-12-30  \n",
            "4         52.0                     30.0      2024-01-27  \n",
            "5         75.0                     12.0      2023-12-23  \n",
            "6         48.0                     35.0      2024-01-05  \n",
            "7         82.0                     18.0      2024-01-23  \n",
            "8         55.0                     22.0      2024-02-11  \n",
            "9         60.0                     28.0      2024-01-03  \n",
            "12        72.0                     24.0      2023-12-26  \n",
            "13        54.0                     19.0      2024-01-08  \n",
            "14        56.0                     26.0      2024-02-06  \n",
            "15        78.0                     14.0      2024-01-20  \n",
            "16        62.0                     21.0      2024-01-24  \n"
          ]
        }
      ]
    },
    {
      "cell_type": "markdown",
      "source": [
        "#วิธีที่ 2 เติมค่าด้วยค่าเฉลี่ย"
      ],
      "metadata": {
        "id": "hzt07mJUakem"
      }
    },
    {
      "cell_type": "code",
      "source": [
        "# แสดงข้อมูลก่อนเติมค่า\n",
        "print(\"ก่อนเติมค่า\")\n",
        "print(df)\n",
        "\n",
        "# เหมาะกับข้อมูลตัวเลข - ใช้ค่าเฉลี่ย\n",
        "mean_age = df['อายุ'].mean()\n",
        "df['อายุ'].fillna(mean_age, inplace=True)\n",
        "\n",
        "print(f\"\\nค่าเฉลี่ยอายุ - {mean_age:.1f} ปี\")\n",
        "print(\"หลังเติมค่า\")\n",
        "print(df)"
      ],
      "metadata": {
        "colab": {
          "base_uri": "https://localhost:8080/"
        },
        "id": "7T-8P9X6af6j",
        "outputId": "0311eb90-dfe6-4365-b837-033d964e8005"
      },
      "execution_count": 6,
      "outputs": [
        {
          "output_type": "stream",
          "name": "stdout",
          "text": [
            "ก่อนเติมค่า\n",
            "    รหัสนักศึกษา      ชื่อ   อายุ     เพศ             คณะ   GPA  ส่วนสูง_cm  \\\n",
            "0          64001     สมชาย   20.0     ชาย     วิทยาศาสตร์  3.21       170.0   \n",
            "1          64002    สมหญิง   21.0    หญิง           วิทย์  3.45       165.0   \n",
            "2          64003       NaN    NaN    Male         Science  3.67       175.0   \n",
            "3          64004  สมศักดิ์   22.0       ช  คณะวิทยาศาสตร์ -1.00       168.0   \n",
            "4          64005      สมใจ   19.0       ญ           วิศวะ  3.89       160.0   \n",
            "5          64006     กานต์  150.0     ชาย     Engineering  3.12       172.0   \n",
            "6          64007     กิตติ   21.0    หญิง        วิศวกรรม  4.50       158.0   \n",
            "7          64008      จิรา   20.0       F      ศิลปศาสตร์  2.98       180.0   \n",
            "8          64009    ชนาธิป   23.0       M            Arts  3.34       163.0   \n",
            "9          64010      ดารา   21.0    หญิง           ศิลป์  3.56       167.0   \n",
            "10         64011      ธีระ    NaN     NaN             NaN  3.78         NaN   \n",
            "11         64012       นภา   22.0     ชาย           วิทย์   NaN       171.0   \n",
            "12         64013     บุญมี   20.0    หญิง           วิศวฯ  3.23       169.0   \n",
            "13         64014     ปรีชา   21.0     ชาย    Liberal Arts  3.45       164.0   \n",
            "14         64015     พิมพ์   22.0  Female             Sci  3.67       162.0   \n",
            "15         64016      ภูมิ   19.0       ช     วิทยาศาสตร์  3.89       173.0   \n",
            "16         64017      มานี   20.0       ญ  วิศวกรรมศาสตร์  3.01       166.0   \n",
            "17         64018      ยุพา   21.0    หญิง             NaN  3.23       161.0   \n",
            "18         64019     รัตนา    NaN     ชาย      ศิลปศาสตร์   NaN       174.0   \n",
            "19         64020     ลัดดา   22.0     NaN         Science  3.45       168.0   \n",
            "\n",
            "    น้ำหนัก_kg  ชั่วโมงเรียน_ต่อสัปดาห์ วันที่ลงทะเบียน  \n",
            "0         65.0                     15.0      2024-01-23  \n",
            "1         58.0                     20.0      2024-02-05  \n",
            "2          NaN                     25.0      2024-01-13  \n",
            "3         70.0                     10.0      2023-12-30  \n",
            "4         52.0                     30.0      2024-01-27  \n",
            "5         75.0                     12.0      2023-12-23  \n",
            "6         48.0                     35.0      2024-01-05  \n",
            "7         82.0                     18.0      2024-01-23  \n",
            "8         55.0                     22.0      2024-02-11  \n",
            "9         60.0                     28.0      2024-01-03  \n",
            "10        68.0                      NaN      2024-01-07  \n",
            "11         NaN                     16.0      2023-12-26  \n",
            "12        72.0                     24.0      2023-12-26  \n",
            "13        54.0                     19.0      2024-01-08  \n",
            "14        56.0                     26.0      2024-02-06  \n",
            "15        78.0                     14.0      2024-01-20  \n",
            "16        62.0                     21.0      2024-01-24  \n",
            "17        50.0                     27.0      2024-01-08  \n",
            "18        76.0                      NaN      2023-12-18  \n",
            "19        64.0                     23.0      2024-01-06  \n",
            "\n",
            "ค่าเฉลี่ยอายุ - 28.5 ปี\n",
            "หลังเติมค่า\n",
            "    รหัสนักศึกษา      ชื่อ        อายุ     เพศ             คณะ   GPA  \\\n",
            "0          64001     สมชาย   20.000000     ชาย     วิทยาศาสตร์  3.21   \n",
            "1          64002    สมหญิง   21.000000    หญิง           วิทย์  3.45   \n",
            "2          64003       NaN   28.470588    Male         Science  3.67   \n",
            "3          64004  สมศักดิ์   22.000000       ช  คณะวิทยาศาสตร์ -1.00   \n",
            "4          64005      สมใจ   19.000000       ญ           วิศวะ  3.89   \n",
            "5          64006     กานต์  150.000000     ชาย     Engineering  3.12   \n",
            "6          64007     กิตติ   21.000000    หญิง        วิศวกรรม  4.50   \n",
            "7          64008      จิรา   20.000000       F      ศิลปศาสตร์  2.98   \n",
            "8          64009    ชนาธิป   23.000000       M            Arts  3.34   \n",
            "9          64010      ดารา   21.000000    หญิง           ศิลป์  3.56   \n",
            "10         64011      ธีระ   28.470588     NaN             NaN  3.78   \n",
            "11         64012       นภา   22.000000     ชาย           วิทย์   NaN   \n",
            "12         64013     บุญมี   20.000000    หญิง           วิศวฯ  3.23   \n",
            "13         64014     ปรีชา   21.000000     ชาย    Liberal Arts  3.45   \n",
            "14         64015     พิมพ์   22.000000  Female             Sci  3.67   \n",
            "15         64016      ภูมิ   19.000000       ช     วิทยาศาสตร์  3.89   \n",
            "16         64017      มานี   20.000000       ญ  วิศวกรรมศาสตร์  3.01   \n",
            "17         64018      ยุพา   21.000000    หญิง             NaN  3.23   \n",
            "18         64019     รัตนา   28.470588     ชาย      ศิลปศาสตร์   NaN   \n",
            "19         64020     ลัดดา   22.000000     NaN         Science  3.45   \n",
            "\n",
            "    ส่วนสูง_cm  น้ำหนัก_kg  ชั่วโมงเรียน_ต่อสัปดาห์ วันที่ลงทะเบียน  \n",
            "0        170.0        65.0                     15.0      2024-01-23  \n",
            "1        165.0        58.0                     20.0      2024-02-05  \n",
            "2        175.0         NaN                     25.0      2024-01-13  \n",
            "3        168.0        70.0                     10.0      2023-12-30  \n",
            "4        160.0        52.0                     30.0      2024-01-27  \n",
            "5        172.0        75.0                     12.0      2023-12-23  \n",
            "6        158.0        48.0                     35.0      2024-01-05  \n",
            "7        180.0        82.0                     18.0      2024-01-23  \n",
            "8        163.0        55.0                     22.0      2024-02-11  \n",
            "9        167.0        60.0                     28.0      2024-01-03  \n",
            "10         NaN        68.0                      NaN      2024-01-07  \n",
            "11       171.0         NaN                     16.0      2023-12-26  \n",
            "12       169.0        72.0                     24.0      2023-12-26  \n",
            "13       164.0        54.0                     19.0      2024-01-08  \n",
            "14       162.0        56.0                     26.0      2024-02-06  \n",
            "15       173.0        78.0                     14.0      2024-01-20  \n",
            "16       166.0        62.0                     21.0      2024-01-24  \n",
            "17       161.0        50.0                     27.0      2024-01-08  \n",
            "18       174.0        76.0                      NaN      2023-12-18  \n",
            "19       168.0        64.0                     23.0      2024-01-06  \n"
          ]
        },
        {
          "output_type": "stream",
          "name": "stderr",
          "text": [
            "/tmp/ipython-input-2756046429.py:7: FutureWarning: A value is trying to be set on a copy of a DataFrame or Series through chained assignment using an inplace method.\n",
            "The behavior will change in pandas 3.0. This inplace method will never work because the intermediate object on which we are setting values always behaves as a copy.\n",
            "\n",
            "For example, when doing 'df[col].method(value, inplace=True)', try using 'df.method({col: value}, inplace=True)' or df[col] = df[col].method(value) instead, to perform the operation inplace on the original object.\n",
            "\n",
            "\n",
            "  df['อายุ'].fillna(mean_age, inplace=True)\n"
          ]
        }
      ]
    },
    {
      "cell_type": "markdown",
      "source": [
        "#วิธีที่ 3 เติมค่าด้วยค่าที่พบบ่อยที่สุด"
      ],
      "metadata": {
        "id": "Tsqh8h7mar8b"
      }
    },
    {
      "cell_type": "code",
      "source": [
        "# แสดงข้อมูลก่อนเติมค่า\n",
        "print(\"ก่อนเติมค่า\")\n",
        "print(df)\n",
        "\n",
        "# เหมาะกับข้อมูลประเภท - ใช้ค่าที่พบบ่อยที่สุด (mode)\n",
        "df['คณะ'].fillna(df['คณะ'].mode()[0], inplace=True)\n",
        "\n",
        "print(\"\\nหลังเติมค่า\")\n",
        "print(df)"
      ],
      "metadata": {
        "colab": {
          "base_uri": "https://localhost:8080/"
        },
        "id": "FPeCn2xkanWt",
        "outputId": "19f9b3bb-0f43-4ed4-f98e-ae5e420666f3"
      },
      "execution_count": 7,
      "outputs": [
        {
          "output_type": "stream",
          "name": "stdout",
          "text": [
            "ก่อนเติมค่า\n",
            "    รหัสนักศึกษา      ชื่อ        อายุ     เพศ             คณะ   GPA  \\\n",
            "0          64001     สมชาย   20.000000     ชาย     วิทยาศาสตร์  3.21   \n",
            "1          64002    สมหญิง   21.000000    หญิง           วิทย์  3.45   \n",
            "2          64003       NaN   28.470588    Male         Science  3.67   \n",
            "3          64004  สมศักดิ์   22.000000       ช  คณะวิทยาศาสตร์ -1.00   \n",
            "4          64005      สมใจ   19.000000       ญ           วิศวะ  3.89   \n",
            "5          64006     กานต์  150.000000     ชาย     Engineering  3.12   \n",
            "6          64007     กิตติ   21.000000    หญิง        วิศวกรรม  4.50   \n",
            "7          64008      จิรา   20.000000       F      ศิลปศาสตร์  2.98   \n",
            "8          64009    ชนาธิป   23.000000       M            Arts  3.34   \n",
            "9          64010      ดารา   21.000000    หญิง           ศิลป์  3.56   \n",
            "10         64011      ธีระ   28.470588     NaN             NaN  3.78   \n",
            "11         64012       นภา   22.000000     ชาย           วิทย์   NaN   \n",
            "12         64013     บุญมี   20.000000    หญิง           วิศวฯ  3.23   \n",
            "13         64014     ปรีชา   21.000000     ชาย    Liberal Arts  3.45   \n",
            "14         64015     พิมพ์   22.000000  Female             Sci  3.67   \n",
            "15         64016      ภูมิ   19.000000       ช     วิทยาศาสตร์  3.89   \n",
            "16         64017      มานี   20.000000       ญ  วิศวกรรมศาสตร์  3.01   \n",
            "17         64018      ยุพา   21.000000    หญิง             NaN  3.23   \n",
            "18         64019     รัตนา   28.470588     ชาย      ศิลปศาสตร์   NaN   \n",
            "19         64020     ลัดดา   22.000000     NaN         Science  3.45   \n",
            "\n",
            "    ส่วนสูง_cm  น้ำหนัก_kg  ชั่วโมงเรียน_ต่อสัปดาห์ วันที่ลงทะเบียน  \n",
            "0        170.0        65.0                     15.0      2024-01-23  \n",
            "1        165.0        58.0                     20.0      2024-02-05  \n",
            "2        175.0         NaN                     25.0      2024-01-13  \n",
            "3        168.0        70.0                     10.0      2023-12-30  \n",
            "4        160.0        52.0                     30.0      2024-01-27  \n",
            "5        172.0        75.0                     12.0      2023-12-23  \n",
            "6        158.0        48.0                     35.0      2024-01-05  \n",
            "7        180.0        82.0                     18.0      2024-01-23  \n",
            "8        163.0        55.0                     22.0      2024-02-11  \n",
            "9        167.0        60.0                     28.0      2024-01-03  \n",
            "10         NaN        68.0                      NaN      2024-01-07  \n",
            "11       171.0         NaN                     16.0      2023-12-26  \n",
            "12       169.0        72.0                     24.0      2023-12-26  \n",
            "13       164.0        54.0                     19.0      2024-01-08  \n",
            "14       162.0        56.0                     26.0      2024-02-06  \n",
            "15       173.0        78.0                     14.0      2024-01-20  \n",
            "16       166.0        62.0                     21.0      2024-01-24  \n",
            "17       161.0        50.0                     27.0      2024-01-08  \n",
            "18       174.0        76.0                      NaN      2023-12-18  \n",
            "19       168.0        64.0                     23.0      2024-01-06  \n",
            "\n",
            "หลังเติมค่า\n",
            "    รหัสนักศึกษา      ชื่อ        อายุ     เพศ             คณะ   GPA  \\\n",
            "0          64001     สมชาย   20.000000     ชาย     วิทยาศาสตร์  3.21   \n",
            "1          64002    สมหญิง   21.000000    หญิง           วิทย์  3.45   \n",
            "2          64003       NaN   28.470588    Male         Science  3.67   \n",
            "3          64004  สมศักดิ์   22.000000       ช  คณะวิทยาศาสตร์ -1.00   \n",
            "4          64005      สมใจ   19.000000       ญ           วิศวะ  3.89   \n",
            "5          64006     กานต์  150.000000     ชาย     Engineering  3.12   \n",
            "6          64007     กิตติ   21.000000    หญิง        วิศวกรรม  4.50   \n",
            "7          64008      จิรา   20.000000       F      ศิลปศาสตร์  2.98   \n",
            "8          64009    ชนาธิป   23.000000       M            Arts  3.34   \n",
            "9          64010      ดารา   21.000000    หญิง           ศิลป์  3.56   \n",
            "10         64011      ธีระ   28.470588     NaN         Science  3.78   \n",
            "11         64012       นภา   22.000000     ชาย           วิทย์   NaN   \n",
            "12         64013     บุญมี   20.000000    หญิง           วิศวฯ  3.23   \n",
            "13         64014     ปรีชา   21.000000     ชาย    Liberal Arts  3.45   \n",
            "14         64015     พิมพ์   22.000000  Female             Sci  3.67   \n",
            "15         64016      ภูมิ   19.000000       ช     วิทยาศาสตร์  3.89   \n",
            "16         64017      มานี   20.000000       ญ  วิศวกรรมศาสตร์  3.01   \n",
            "17         64018      ยุพา   21.000000    หญิง         Science  3.23   \n",
            "18         64019     รัตนา   28.470588     ชาย      ศิลปศาสตร์   NaN   \n",
            "19         64020     ลัดดา   22.000000     NaN         Science  3.45   \n",
            "\n",
            "    ส่วนสูง_cm  น้ำหนัก_kg  ชั่วโมงเรียน_ต่อสัปดาห์ วันที่ลงทะเบียน  \n",
            "0        170.0        65.0                     15.0      2024-01-23  \n",
            "1        165.0        58.0                     20.0      2024-02-05  \n",
            "2        175.0         NaN                     25.0      2024-01-13  \n",
            "3        168.0        70.0                     10.0      2023-12-30  \n",
            "4        160.0        52.0                     30.0      2024-01-27  \n",
            "5        172.0        75.0                     12.0      2023-12-23  \n",
            "6        158.0        48.0                     35.0      2024-01-05  \n",
            "7        180.0        82.0                     18.0      2024-01-23  \n",
            "8        163.0        55.0                     22.0      2024-02-11  \n",
            "9        167.0        60.0                     28.0      2024-01-03  \n",
            "10         NaN        68.0                      NaN      2024-01-07  \n",
            "11       171.0         NaN                     16.0      2023-12-26  \n",
            "12       169.0        72.0                     24.0      2023-12-26  \n",
            "13       164.0        54.0                     19.0      2024-01-08  \n",
            "14       162.0        56.0                     26.0      2024-02-06  \n",
            "15       173.0        78.0                     14.0      2024-01-20  \n",
            "16       166.0        62.0                     21.0      2024-01-24  \n",
            "17       161.0        50.0                     27.0      2024-01-08  \n",
            "18       174.0        76.0                      NaN      2023-12-18  \n",
            "19       168.0        64.0                     23.0      2024-01-06  \n"
          ]
        },
        {
          "output_type": "stream",
          "name": "stderr",
          "text": [
            "/tmp/ipython-input-1306052234.py:6: FutureWarning: A value is trying to be set on a copy of a DataFrame or Series through chained assignment using an inplace method.\n",
            "The behavior will change in pandas 3.0. This inplace method will never work because the intermediate object on which we are setting values always behaves as a copy.\n",
            "\n",
            "For example, when doing 'df[col].method(value, inplace=True)', try using 'df.method({col: value}, inplace=True)' or df[col] = df[col].method(value) instead, to perform the operation inplace on the original object.\n",
            "\n",
            "\n",
            "  df['คณะ'].fillna(df['คณะ'].mode()[0], inplace=True)\n"
          ]
        }
      ]
    },
    {
      "cell_type": "markdown",
      "source": [
        "#3.2 การทำให้ข้อมูลเป็นมาตรฐาน"
      ],
      "metadata": {
        "id": "1UY_Molka3PJ"
      }
    },
    {
      "cell_type": "code",
      "source": [
        "# ตัวอย่าง - ทำให้ชื่อคณะเป็นมาตรฐานเดียวกัน\n",
        "def standardize_faculty(name):\n",
        "    if name in ['วิทยาศาสตร์', 'วิทย์', 'Science', 'คณะวิทยาศาสตร์']:\n",
        "        return 'วิทยาศาสตร์'\n",
        "    elif name in ['ศิลปศาสตร์', 'ศิลป์', 'Arts']:\n",
        "        return 'ศิลปศาสตร์'\n",
        "    else:\n",
        "        return name\n",
        "\n",
        "# ใช้งาน\n",
        "df['คณะ_มาตรฐาน'] = df['คณะ'].apply(standardize_faculty)"
      ],
      "metadata": {
        "id": "JSAtbzPMavTB"
      },
      "execution_count": 8,
      "outputs": []
    },
    {
      "cell_type": "markdown",
      "source": [
        "#3.3 การจัดการค่าผิดปกติ"
      ],
      "metadata": {
        "id": "qkyij9pSbEKl"
      }
    },
    {
      "cell_type": "code",
      "source": [
        "print(\"ข้อมูลต้นฉบับ\")\n",
        "print(df)\n",
        "print(f\"\\nค่าเฉลี่ยอายุ (รวมค่าผิดปกติ) - {df['อายุ'].mean():.2f}\")\n",
        "\n",
        "# วิธีง่ายๆ - ใช้ IQR (Interquartile Range)\n",
        "Q1 = df['อายุ'].quantile(0.25)\n",
        "Q3 = df['อายุ'].quantile(0.75)\n",
        "IQR = Q3 - Q1\n",
        "\n",
        "# กำหนดขอบเขต\n",
        "lower_bound = Q1 - 1.5 * IQR\n",
        "upper_bound = Q3 + 1.5 * IQR\n",
        "\n",
        "# กรองค่าผิดปกติ\n",
        "df_no_outliers = df[(df['อายุ'] >= lower_bound) & (df['อายุ'] <= upper_bound)]\n",
        "\n",
        "print(f\"\\nขอบเขตล่าง - {lower_bound}\")\n",
        "print(f\"ขอบเขตบน - {upper_bound}\")\n",
        "print(f\"\\nข้อมูลหลังกรองค่าผิดปกติ\")\n",
        "print(df_no_outliers)\n",
        "print(f\"\\nค่าเฉลี่ยอายุ (หลังกรองค่าผิดปกติ) - {df_no_outliers['อายุ'].mean():.2f}\")"
      ],
      "metadata": {
        "colab": {
          "base_uri": "https://localhost:8080/"
        },
        "id": "-23sZwd_bCn3",
        "outputId": "3d39fc75-5264-436e-e138-7a02b0332db0"
      },
      "execution_count": 9,
      "outputs": [
        {
          "output_type": "stream",
          "name": "stdout",
          "text": [
            "ข้อมูลต้นฉบับ\n",
            "    รหัสนักศึกษา      ชื่อ        อายุ     เพศ             คณะ   GPA  \\\n",
            "0          64001     สมชาย   20.000000     ชาย     วิทยาศาสตร์  3.21   \n",
            "1          64002    สมหญิง   21.000000    หญิง           วิทย์  3.45   \n",
            "2          64003       NaN   28.470588    Male         Science  3.67   \n",
            "3          64004  สมศักดิ์   22.000000       ช  คณะวิทยาศาสตร์ -1.00   \n",
            "4          64005      สมใจ   19.000000       ญ           วิศวะ  3.89   \n",
            "5          64006     กานต์  150.000000     ชาย     Engineering  3.12   \n",
            "6          64007     กิตติ   21.000000    หญิง        วิศวกรรม  4.50   \n",
            "7          64008      จิรา   20.000000       F      ศิลปศาสตร์  2.98   \n",
            "8          64009    ชนาธิป   23.000000       M            Arts  3.34   \n",
            "9          64010      ดารา   21.000000    หญิง           ศิลป์  3.56   \n",
            "10         64011      ธีระ   28.470588     NaN         Science  3.78   \n",
            "11         64012       นภา   22.000000     ชาย           วิทย์   NaN   \n",
            "12         64013     บุญมี   20.000000    หญิง           วิศวฯ  3.23   \n",
            "13         64014     ปรีชา   21.000000     ชาย    Liberal Arts  3.45   \n",
            "14         64015     พิมพ์   22.000000  Female             Sci  3.67   \n",
            "15         64016      ภูมิ   19.000000       ช     วิทยาศาสตร์  3.89   \n",
            "16         64017      มานี   20.000000       ญ  วิศวกรรมศาสตร์  3.01   \n",
            "17         64018      ยุพา   21.000000    หญิง         Science  3.23   \n",
            "18         64019     รัตนา   28.470588     ชาย      ศิลปศาสตร์   NaN   \n",
            "19         64020     ลัดดา   22.000000     NaN         Science  3.45   \n",
            "\n",
            "    ส่วนสูง_cm  น้ำหนัก_kg  ชั่วโมงเรียน_ต่อสัปดาห์ วันที่ลงทะเบียน  \\\n",
            "0        170.0        65.0                     15.0      2024-01-23   \n",
            "1        165.0        58.0                     20.0      2024-02-05   \n",
            "2        175.0         NaN                     25.0      2024-01-13   \n",
            "3        168.0        70.0                     10.0      2023-12-30   \n",
            "4        160.0        52.0                     30.0      2024-01-27   \n",
            "5        172.0        75.0                     12.0      2023-12-23   \n",
            "6        158.0        48.0                     35.0      2024-01-05   \n",
            "7        180.0        82.0                     18.0      2024-01-23   \n",
            "8        163.0        55.0                     22.0      2024-02-11   \n",
            "9        167.0        60.0                     28.0      2024-01-03   \n",
            "10         NaN        68.0                      NaN      2024-01-07   \n",
            "11       171.0         NaN                     16.0      2023-12-26   \n",
            "12       169.0        72.0                     24.0      2023-12-26   \n",
            "13       164.0        54.0                     19.0      2024-01-08   \n",
            "14       162.0        56.0                     26.0      2024-02-06   \n",
            "15       173.0        78.0                     14.0      2024-01-20   \n",
            "16       166.0        62.0                     21.0      2024-01-24   \n",
            "17       161.0        50.0                     27.0      2024-01-08   \n",
            "18       174.0        76.0                      NaN      2023-12-18   \n",
            "19       168.0        64.0                     23.0      2024-01-06   \n",
            "\n",
            "       คณะ_มาตรฐาน  \n",
            "0      วิทยาศาสตร์  \n",
            "1      วิทยาศาสตร์  \n",
            "2      วิทยาศาสตร์  \n",
            "3      วิทยาศาสตร์  \n",
            "4            วิศวะ  \n",
            "5      Engineering  \n",
            "6         วิศวกรรม  \n",
            "7       ศิลปศาสตร์  \n",
            "8       ศิลปศาสตร์  \n",
            "9       ศิลปศาสตร์  \n",
            "10     วิทยาศาสตร์  \n",
            "11     วิทยาศาสตร์  \n",
            "12           วิศวฯ  \n",
            "13    Liberal Arts  \n",
            "14             Sci  \n",
            "15     วิทยาศาสตร์  \n",
            "16  วิศวกรรมศาสตร์  \n",
            "17     วิทยาศาสตร์  \n",
            "18      ศิลปศาสตร์  \n",
            "19     วิทยาศาสตร์  \n",
            "\n",
            "ค่าเฉลี่ยอายุ (รวมค่าผิดปกติ) - 28.47\n",
            "\n",
            "ขอบเขตล่าง - 16.625\n",
            "ขอบเขตบน - 25.625\n",
            "\n",
            "ข้อมูลหลังกรองค่าผิดปกติ\n",
            "    รหัสนักศึกษา      ชื่อ  อายุ     เพศ             คณะ   GPA  ส่วนสูง_cm  \\\n",
            "0          64001     สมชาย  20.0     ชาย     วิทยาศาสตร์  3.21       170.0   \n",
            "1          64002    สมหญิง  21.0    หญิง           วิทย์  3.45       165.0   \n",
            "3          64004  สมศักดิ์  22.0       ช  คณะวิทยาศาสตร์ -1.00       168.0   \n",
            "4          64005      สมใจ  19.0       ญ           วิศวะ  3.89       160.0   \n",
            "6          64007     กิตติ  21.0    หญิง        วิศวกรรม  4.50       158.0   \n",
            "7          64008      จิรา  20.0       F      ศิลปศาสตร์  2.98       180.0   \n",
            "8          64009    ชนาธิป  23.0       M            Arts  3.34       163.0   \n",
            "9          64010      ดารา  21.0    หญิง           ศิลป์  3.56       167.0   \n",
            "11         64012       นภา  22.0     ชาย           วิทย์   NaN       171.0   \n",
            "12         64013     บุญมี  20.0    หญิง           วิศวฯ  3.23       169.0   \n",
            "13         64014     ปรีชา  21.0     ชาย    Liberal Arts  3.45       164.0   \n",
            "14         64015     พิมพ์  22.0  Female             Sci  3.67       162.0   \n",
            "15         64016      ภูมิ  19.0       ช     วิทยาศาสตร์  3.89       173.0   \n",
            "16         64017      มานี  20.0       ญ  วิศวกรรมศาสตร์  3.01       166.0   \n",
            "17         64018      ยุพา  21.0    หญิง         Science  3.23       161.0   \n",
            "19         64020     ลัดดา  22.0     NaN         Science  3.45       168.0   \n",
            "\n",
            "    น้ำหนัก_kg  ชั่วโมงเรียน_ต่อสัปดาห์ วันที่ลงทะเบียน     คณะ_มาตรฐาน  \n",
            "0         65.0                     15.0      2024-01-23     วิทยาศาสตร์  \n",
            "1         58.0                     20.0      2024-02-05     วิทยาศาสตร์  \n",
            "3         70.0                     10.0      2023-12-30     วิทยาศาสตร์  \n",
            "4         52.0                     30.0      2024-01-27           วิศวะ  \n",
            "6         48.0                     35.0      2024-01-05        วิศวกรรม  \n",
            "7         82.0                     18.0      2024-01-23      ศิลปศาสตร์  \n",
            "8         55.0                     22.0      2024-02-11      ศิลปศาสตร์  \n",
            "9         60.0                     28.0      2024-01-03      ศิลปศาสตร์  \n",
            "11         NaN                     16.0      2023-12-26     วิทยาศาสตร์  \n",
            "12        72.0                     24.0      2023-12-26           วิศวฯ  \n",
            "13        54.0                     19.0      2024-01-08    Liberal Arts  \n",
            "14        56.0                     26.0      2024-02-06             Sci  \n",
            "15        78.0                     14.0      2024-01-20     วิทยาศาสตร์  \n",
            "16        62.0                     21.0      2024-01-24  วิศวกรรมศาสตร์  \n",
            "17        50.0                     27.0      2024-01-08     วิทยาศาสตร์  \n",
            "19        64.0                     23.0      2024-01-06     วิทยาศาสตร์  \n",
            "\n",
            "ค่าเฉลี่ยอายุ (หลังกรองค่าผิดปกติ) - 20.88\n"
          ]
        }
      ]
    },
    {
      "cell_type": "markdown",
      "source": [
        "#4.1 One-Hot Encoding แปลงข้อมูลประเภทเป็นตัวเลข"
      ],
      "metadata": {
        "id": "6WXeERMwbO-_"
      }
    },
    {
      "cell_type": "code",
      "source": [
        "# ทำ One-Hot Encoding\n",
        "data_encoded = pd.get_dummies(data, columns=['คณะ'])\n",
        "print(data_encoded)"
      ],
      "metadata": {
        "colab": {
          "base_uri": "https://localhost:8080/"
        },
        "id": "_LWB5StlbI5O",
        "outputId": "c11716c6-7632-42df-cd86-54be9a2b35eb"
      },
      "execution_count": 41,
      "outputs": [
        {
          "output_type": "stream",
          "name": "stdout",
          "text": [
            "  ชื่อ  คณะ_วิทย์  คณะ_วิศวะ  คณะ_ศิลป์\n",
            "0    A       True      False      False\n",
            "1    B      False      False       True\n",
            "2    C       True      False      False\n",
            "3    D      False       True      False\n"
          ]
        }
      ]
    },
    {
      "cell_type": "markdown",
      "source": [
        "#4.2 การสร้าง Feature จากวันเวลา"
      ],
      "metadata": {
        "id": "OsKpJplSb5s_"
      }
    },
    {
      "cell_type": "code",
      "source": [
        "# สร้าง features ใหม่\n",
        "coffee_data['ชั่วโมง'] = coffee_data['วันเวลา'].dt.hour\n",
        "coffee_data['วันในสัปดาห์'] = coffee_data['วันเวลา'].dt.day_name()\n",
        "coffee_data['ช่วงเวลา'] = pd.cut(coffee_data['ชั่วโมง'],\n",
        "                                  bins=[0, 10, 14, 18, 24],\n",
        "                                  labels=['เช้า', 'กลางวัน', 'บ่าย', 'เย็น'])\n",
        "\n",
        "print(coffee_data[['วันเวลา', 'ช่วงเวลา', 'ยอดขาย']])"
      ],
      "metadata": {
        "colab": {
          "base_uri": "https://localhost:8080/"
        },
        "id": "cmZLoR6NbjIp",
        "outputId": "45b9852a-f69e-41dc-f4fc-49b7fe8fc6a8"
      },
      "execution_count": 42,
      "outputs": [
        {
          "output_type": "stream",
          "name": "stdout",
          "text": [
            "              วันเวลา ช่วงเวลา  ยอดขาย\n",
            "0 2024-01-15 07:30:00     เช้า    1500\n",
            "1 2024-01-15 12:00:00  กลางวัน    3200\n",
            "2 2024-01-15 16:30:00     บ่าย    2100\n",
            "3 2024-01-16 08:00:00     เช้า    1800\n"
          ]
        }
      ]
    },
    {
      "cell_type": "markdown",
      "source": [
        "#4.3 การรวม Features"
      ],
      "metadata": {
        "id": "o8EC3VN8cGvM"
      }
    },
    {
      "cell_type": "code",
      "source": [
        "# สร้าง BMI\n",
        "student_health['BMI'] = student_health['น้ำหนัก_kg'] / (student_health['ส่วนสูง_cm']/100)**2\n",
        "student_health['สุขภาพ'] = pd.cut(student_health['BMI'],\n",
        "                                   bins=[0, 18.5, 25, 30, 100],\n",
        "                                   labels=['ผอม', 'ปกติ', 'อ้วน', 'อ้วนมาก'])\n",
        "\n",
        "print(student_health[['ชื่อ', 'BMI', 'สุขภาพ']])"
      ],
      "metadata": {
        "colab": {
          "base_uri": "https://localhost:8080/"
        },
        "id": "9-DnYbG_cAUH",
        "outputId": "40623c29-a3ad-4d37-f2d2-abbb233f9a2e"
      },
      "execution_count": 43,
      "outputs": [
        {
          "output_type": "stream",
          "name": "stdout",
          "text": [
            "       ชื่อ        BMI สุขภาพ\n",
            "0     สมชาย  22.491349   ปกติ\n",
            "1    สมหญิง  20.202020   ปกติ\n",
            "2  สมศักดิ์  26.122449   อ้วน\n"
          ]
        }
      ]
    },
    {
      "cell_type": "markdown",
      "source": [
        "# สร้าง dataset ตัวอย่าง"
      ],
      "metadata": {
        "id": "zCekZ1cYhYhO"
      }
    },
    {
      "cell_type": "code",
      "source": [
        "import pandas as pd\n",
        "import numpy as np"
      ],
      "metadata": {
        "id": "ppaQG2cAhJPF"
      },
      "execution_count": 25,
      "outputs": []
    },
    {
      "cell_type": "markdown",
      "source": [
        "# ข้อมูลดิบที่มีปัญหา"
      ],
      "metadata": {
        "id": "Lo8avHBIhcag"
      }
    },
    {
      "cell_type": "code",
      "source": [
        "raw_data = {\n",
        "    'รหัสนักศึกษา': ['64001', '64002', '64003', '64004', '64005'],\n",
        "    'ชื่อ': ['สมชาย', 'สมหญิง', None, 'สมศักดิ์', 'สมใจ'],\n",
        "    'คณะ': ['วิทย์', 'ศิลปศาสตร์', 'วิทยาศาสตร์', 'Arts', 'วิศวะ'],\n",
        "    'ชั้นปี': [2, 3, 2, None, 4],\n",
        "    'GPA': [3.2, 3.8, -1, 2.9, 4.5],  # -1 และ 4.5 ผิดปกติ\n",
        "    'กิจกรรม': ['กีฬา', 'ดนตรี', 'กีฬา,ดนตรี', None, 'อาสา'],\n",
        "    'เวลาเข้าร่วม': ['08:00', '9.30', '08:30', '08:00', None]\n",
        "}"
      ],
      "metadata": {
        "id": "HhINklG2hdVf"
      },
      "execution_count": 26,
      "outputs": []
    },
    {
      "cell_type": "code",
      "source": [
        "df_student = pd.DataFrame(raw_data)\n",
        "print(\"=== ข้อมูลดิบ ===\")\n",
        "print(df_student)\n",
        "print(\"\\nปัญหาที่พบ\")\n",
        "print(f\"- ข้อมูลหาย - {df_student.isnull().sum().sum()} ค่า\")\n",
        "print(f\"- GPA ผิดปกติ - {df_student[(df_student['GPA'] < 0) | (df_student['GPA'] > 4)]['GPA'].tolist()}\")"
      ],
      "metadata": {
        "colab": {
          "base_uri": "https://localhost:8080/"
        },
        "id": "F5pLiuPKhgI6",
        "outputId": "17f075ec-2ff3-426d-fe93-0e3882b7ffc3"
      },
      "execution_count": 27,
      "outputs": [
        {
          "output_type": "stream",
          "name": "stdout",
          "text": [
            "=== ข้อมูลดิบ ===\n",
            "  รหัสนักศึกษา      ชื่อ          คณะ  ชั้นปี  GPA     กิจกรรม เวลาเข้าร่วม\n",
            "0        64001     สมชาย        วิทย์     2.0  3.2        กีฬา        08:00\n",
            "1        64002    สมหญิง   ศิลปศาสตร์     3.0  3.8       ดนตรี         9.30\n",
            "2        64003      None  วิทยาศาสตร์     2.0 -1.0  กีฬา,ดนตรี        08:30\n",
            "3        64004  สมศักดิ์         Arts     NaN  2.9        None        08:00\n",
            "4        64005      สมใจ        วิศวะ     4.0  4.5        อาสา         None\n",
            "\n",
            "ปัญหาที่พบ\n",
            "- ข้อมูลหาย - 4 ค่า\n",
            "- GPA ผิดปกติ - [-1.0, 4.5]\n"
          ]
        }
      ]
    },
    {
      "cell_type": "markdown",
      "source": [
        "# Step 1 - จัดการข้อมูลหาย\n",
        "# ชื่อที่หาย - ใช้ \"ไม่ระบุ\""
      ],
      "metadata": {
        "id": "Gx41KKUXhieS"
      }
    },
    {
      "cell_type": "code",
      "source": [
        "df_student['ชื่อ'].fillna('ไม่ระบุ', inplace=True)"
      ],
      "metadata": {
        "colab": {
          "base_uri": "https://localhost:8080/"
        },
        "id": "hYgoy61PhgcQ",
        "outputId": "751284da-b3b9-49a2-b239-7b216880e8d3"
      },
      "execution_count": 28,
      "outputs": [
        {
          "output_type": "stream",
          "name": "stderr",
          "text": [
            "/tmp/ipython-input-3051647487.py:1: FutureWarning: A value is trying to be set on a copy of a DataFrame or Series through chained assignment using an inplace method.\n",
            "The behavior will change in pandas 3.0. This inplace method will never work because the intermediate object on which we are setting values always behaves as a copy.\n",
            "\n",
            "For example, when doing 'df[col].method(value, inplace=True)', try using 'df.method({col: value}, inplace=True)' or df[col] = df[col].method(value) instead, to perform the operation inplace on the original object.\n",
            "\n",
            "\n",
            "  df_student['ชื่อ'].fillna('ไม่ระบุ', inplace=True)\n"
          ]
        }
      ]
    },
    {
      "cell_type": "markdown",
      "source": [
        "# ชั้นปีที่หาย - ใช้ค่าที่พบบ่อยที่สุด"
      ],
      "metadata": {
        "id": "5Cj8jXXbhnS_"
      }
    },
    {
      "cell_type": "code",
      "source": [
        "mode_year = df_student['ชั้นปี'].mode()[0]\n",
        "df_student['ชั้นปี'].fillna(mode_year, inplace=True)"
      ],
      "metadata": {
        "colab": {
          "base_uri": "https://localhost:8080/"
        },
        "id": "btLKj02ihl_K",
        "outputId": "5707b1af-2895-41eb-cdb9-092e5c9c0105"
      },
      "execution_count": 29,
      "outputs": [
        {
          "output_type": "stream",
          "name": "stderr",
          "text": [
            "/tmp/ipython-input-487854660.py:2: FutureWarning: A value is trying to be set on a copy of a DataFrame or Series through chained assignment using an inplace method.\n",
            "The behavior will change in pandas 3.0. This inplace method will never work because the intermediate object on which we are setting values always behaves as a copy.\n",
            "\n",
            "For example, when doing 'df[col].method(value, inplace=True)', try using 'df.method({col: value}, inplace=True)' or df[col] = df[col].method(value) instead, to perform the operation inplace on the original object.\n",
            "\n",
            "\n",
            "  df_student['ชั้นปี'].fillna(mode_year, inplace=True)\n"
          ]
        }
      ]
    },
    {
      "cell_type": "markdown",
      "source": [
        "# กิจกรรมที่หาย - ใช้ \"ไม่ได้เข้าร่วม\""
      ],
      "metadata": {
        "id": "uXE0MR9Hhqlb"
      }
    },
    {
      "cell_type": "code",
      "source": [
        "df_student['กิจกรรม'].fillna('ไม่ได้เข้าร่วม', inplace=True)"
      ],
      "metadata": {
        "colab": {
          "base_uri": "https://localhost:8080/"
        },
        "id": "0o5nodtvho5C",
        "outputId": "be7a67fd-9a79-43ea-8b5a-a059898c98f4"
      },
      "execution_count": 30,
      "outputs": [
        {
          "output_type": "stream",
          "name": "stderr",
          "text": [
            "/tmp/ipython-input-2178008212.py:1: FutureWarning: A value is trying to be set on a copy of a DataFrame or Series through chained assignment using an inplace method.\n",
            "The behavior will change in pandas 3.0. This inplace method will never work because the intermediate object on which we are setting values always behaves as a copy.\n",
            "\n",
            "For example, when doing 'df[col].method(value, inplace=True)', try using 'df.method({col: value}, inplace=True)' or df[col] = df[col].method(value) instead, to perform the operation inplace on the original object.\n",
            "\n",
            "\n",
            "  df_student['กิจกรรม'].fillna('ไม่ได้เข้าร่วม', inplace=True)\n"
          ]
        }
      ]
    },
    {
      "cell_type": "markdown",
      "source": [
        "# Step 2 - แก้ไข GPA ผิดปกติ"
      ],
      "metadata": {
        "id": "cUQWHZ21htUk"
      }
    },
    {
      "cell_type": "code",
      "source": [
        "df_student.loc[df_student['GPA'] < 0, 'GPA'] = np.nan\n",
        "df_student.loc[df_student['GPA'] > 4, 'GPA'] = 4.0\n",
        "mean_gpa = df_student['GPA'].mean()\n",
        "df_student['GPA'].fillna(mean_gpa, inplace=True)\n"
      ],
      "metadata": {
        "colab": {
          "base_uri": "https://localhost:8080/"
        },
        "id": "K7ufBPIzhu0Q",
        "outputId": "ea921330-5f9d-4287-c940-69d9f32aa388"
      },
      "execution_count": 31,
      "outputs": [
        {
          "output_type": "stream",
          "name": "stderr",
          "text": [
            "/tmp/ipython-input-2110853435.py:4: FutureWarning: A value is trying to be set on a copy of a DataFrame or Series through chained assignment using an inplace method.\n",
            "The behavior will change in pandas 3.0. This inplace method will never work because the intermediate object on which we are setting values always behaves as a copy.\n",
            "\n",
            "For example, when doing 'df[col].method(value, inplace=True)', try using 'df.method({col: value}, inplace=True)' or df[col] = df[col].method(value) instead, to perform the operation inplace on the original object.\n",
            "\n",
            "\n",
            "  df_student['GPA'].fillna(mean_gpa, inplace=True)\n"
          ]
        }
      ]
    },
    {
      "cell_type": "markdown",
      "source": [
        "# Step 3 - ทำให้ชื่อคณะเป็นมาตรฐาน"
      ],
      "metadata": {
        "id": "mP1lXDcjhy19"
      }
    },
    {
      "cell_type": "code",
      "source": [
        "faculty_mapping = {\n",
        "    'วิทย์': 'วิทยาศาสตร์',\n",
        "    'วิทยาศาสตร์': 'วิทยาศาสตร์',\n",
        "    'ศิลปศาสตร์': 'ศิลปศาสตร์',\n",
        "    'Arts': 'ศิลปศาสตร์',\n",
        "    'วิศวะ': 'วิศวกรรมศาสตร์'\n",
        "}\n",
        "df_student['คณะ'] = df_student['คณะ'].map(faculty_mapping)\n"
      ],
      "metadata": {
        "id": "lTdySH6PhyEq"
      },
      "execution_count": 32,
      "outputs": []
    },
    {
      "cell_type": "markdown",
      "source": [
        "# Step 4 - แปลงเวลาให้เป็นรูปแบบเดียวกัน"
      ],
      "metadata": {
        "id": "WP5Qz6-Ih3W6"
      }
    },
    {
      "cell_type": "code",
      "source": [
        "def standardize_time(time_str):\n",
        "    if pd.isna(time_str):\n",
        "        return '08:00'  # ค่าเริ่มต้น\n",
        "    time_str = str(time_str).replace('.', ':')\n",
        "    if len(time_str.split(':')[0]) == 1:\n",
        "        time_str = '0' + time_str\n",
        "    return time_str\n",
        "\n",
        "df_student['เวลาเข้าร่วม'] = df_student['เวลาเข้าร่วม'].apply(standardize_time)\n"
      ],
      "metadata": {
        "id": "aRYas2H8h1-Q"
      },
      "execution_count": 33,
      "outputs": []
    },
    {
      "cell_type": "code",
      "source": [
        "print(\"\\n=== ข้อมูลหลังทำความสะอาด ===\")\n",
        "print(df_student)"
      ],
      "metadata": {
        "colab": {
          "base_uri": "https://localhost:8080/"
        },
        "id": "l2vlJjdwh7tM",
        "outputId": "6c9bbb9d-b7ca-4b8d-c02f-09cc112488ea"
      },
      "execution_count": 34,
      "outputs": [
        {
          "output_type": "stream",
          "name": "stdout",
          "text": [
            "\n",
            "=== ข้อมูลหลังทำความสะอาด ===\n",
            "  รหัสนักศึกษา      ชื่อ             คณะ  ชั้นปี    GPA         กิจกรรม  \\\n",
            "0        64001     สมชาย     วิทยาศาสตร์     2.0  3.200            กีฬา   \n",
            "1        64002    สมหญิง      ศิลปศาสตร์     3.0  3.800           ดนตรี   \n",
            "2        64003   ไม่ระบุ     วิทยาศาสตร์     2.0  3.475      กีฬา,ดนตรี   \n",
            "3        64004  สมศักดิ์      ศิลปศาสตร์     2.0  2.900  ไม่ได้เข้าร่วม   \n",
            "4        64005      สมใจ  วิศวกรรมศาสตร์     4.0  4.000            อาสา   \n",
            "\n",
            "  เวลาเข้าร่วม  \n",
            "0        08:00  \n",
            "1        09:30  \n",
            "2        08:30  \n",
            "3        08:00  \n",
            "4        08:00  \n"
          ]
        }
      ]
    },
    {
      "cell_type": "markdown",
      "source": [
        "#การสร้าง Features ใหม่"
      ],
      "metadata": {
        "id": "DRkVe-byizQG"
      }
    },
    {
      "cell_type": "code",
      "source": [
        "# Feature 1 - แปลงเวลาเป็นช่วงเวลา\n",
        "df_student['ชั่วโมง'] = pd.to_datetime(df_student['เวลาเข้าร่วม'], format='%H:%M').dt.hour\n",
        "df_student['ช่วงเวลา'] = pd.cut(df_student['ชั่วโมง'],\n",
        "                                 bins=[0, 9, 12, 24],\n",
        "                                 labels=['เช้า', 'สาย', 'บ่าย'])"
      ],
      "metadata": {
        "id": "a7BUjwOih8Fj"
      },
      "execution_count": 44,
      "outputs": []
    },
    {
      "cell_type": "code",
      "source": [
        "# Feature 2 - นับจำนวนกิจกรรม\n",
        "df_student['จำนวนกิจกรรม'] = df_student['กิจกรรม'].apply(\n",
        "    lambda x: len(x.split(',')) if x != 'ไม่ได้เข้าร่วม' else 0\n",
        ")"
      ],
      "metadata": {
        "id": "jVPPIcHpi3BJ"
      },
      "execution_count": 45,
      "outputs": []
    },
    {
      "cell_type": "code",
      "source": [
        "# Feature 3 - จัดกลุ่มผลการเรียน\n",
        "df_student['ระดับผลการเรียน'] = pd.cut(df_student['GPA'],\n",
        "                                        bins=[0, 2.0, 3.0, 3.5, 4.0],\n",
        "                                        labels=['ต่ำ', 'ปานกลาง', 'ดี', 'ดีมาก'])\n"
      ],
      "metadata": {
        "id": "8Cw7-vwui4RA"
      },
      "execution_count": 46,
      "outputs": []
    },
    {
      "cell_type": "code",
      "source": [
        "# Feature 4 - One-Hot Encoding สำหรับคณะ\n",
        "df_encoded = pd.get_dummies(df_student, columns=['คณะ'], prefix='คณะ')\n",
        "\n",
        "print(\"\\n=== ข้อมูลหลัง Feature Engineering ===\")\n",
        "print(df_encoded[['รหัสนักศึกษา', 'ช่วงเวลา', 'จำนวนกิจกรรม', 'ระดับผลการเรียน']])\n",
        "print(\"\\nคอลัมน์ทั้งหมด\")\n",
        "print(df_encoded.columns.tolist())"
      ],
      "metadata": {
        "colab": {
          "base_uri": "https://localhost:8080/"
        },
        "id": "i7xXGUxfi5g3",
        "outputId": "d209965b-ce29-4967-adb5-f1056a358282"
      },
      "execution_count": 47,
      "outputs": [
        {
          "output_type": "stream",
          "name": "stdout",
          "text": [
            "\n",
            "=== ข้อมูลหลัง Feature Engineering ===\n",
            "  รหัสนักศึกษา ช่วงเวลา  จำนวนกิจกรรม ระดับผลการเรียน\n",
            "0        64001     เช้า             1              ดี\n",
            "1        64002     เช้า             1           ดีมาก\n",
            "2        64003     เช้า             2              ดี\n",
            "3        64004     เช้า             0         ปานกลาง\n",
            "4        64005     เช้า             1           ดีมาก\n",
            "\n",
            "คอลัมน์ทั้งหมด\n",
            "['รหัสนักศึกษา', 'ชื่อ', 'ชั้นปี', 'GPA', 'กิจกรรม', 'เวลาเข้าร่วม', 'ชั่วโมง', 'ช่วงเวลา', 'จำนวนกิจกรรม', 'ระดับผลการเรียน', 'คณะ_วิทยาศาสตร์', 'คณะ_วิศวกรรมศาสตร์', 'คณะ_ศิลปศาสตร์']\n"
          ]
        }
      ]
    },
    {
      "cell_type": "code",
      "source": [],
      "metadata": {
        "id": "PU0MFBvli7IQ"
      },
      "execution_count": null,
      "outputs": []
    }
  ]
}